{
 "cells": [
  {
   "cell_type": "code",
   "execution_count": 1,
   "metadata": {},
   "outputs": [],
   "source": [
    "from random import choice, randint"
   ]
  },
  {
   "cell_type": "code",
   "execution_count": 7,
   "metadata": {},
   "outputs": [],
   "source": [
    "with open(r'c:\\buffer\\sql', 'wt') as arquivo:\n",
    "    for _ in range(1000000):\n",
    "        vendedor = randint(1, 6)\n",
    "        produto = randint(1, 8)\n",
    "        dia = randint(1, 28)\n",
    "        mes = randint(1, 11)\n",
    "\n",
    "        linha = f'INSERT INTO VENDAS (ID_VENDEDOR, ID_PRODUTO, DATA_VENDA) VALUES ({vendedor}, {produto}, \"2020-{mes}-{dia}\");\\n'\n",
    "        \n",
    "        arquivo.write(linha)"
   ]
  }
 ],
 "metadata": {
  "kernelspec": {
   "display_name": "Python 3",
   "language": "python",
   "name": "python3"
  },
  "language_info": {
   "codemirror_mode": {
    "name": "ipython",
    "version": 3
   },
   "file_extension": ".py",
   "mimetype": "text/x-python",
   "name": "python",
   "nbconvert_exporter": "python",
   "pygments_lexer": "ipython3",
   "version": "3.8.5"
  }
 },
 "nbformat": 4,
 "nbformat_minor": 4
}
